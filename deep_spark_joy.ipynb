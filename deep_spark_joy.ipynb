{
 "cells": [
  {
   "cell_type": "code",
   "execution_count": 8,
   "metadata": {},
   "outputs": [],
   "source": [
    "import os \n",
    "from glob import glob\n",
    "import pkg_resources\n",
    "import numpy as np\n",
    "import matplotlib.pyplot as plt\n",
    "from shutil import copy2\n"
   ]
  },
  {
   "cell_type": "code",
   "execution_count": 10,
   "metadata": {},
   "outputs": [],
   "source": [
    "def find_files(directory, pattern):\n",
    "    list_of_file = []\n",
    "    dictionary = pattern\n",
    "    for key in dictionary.keys():\n",
    "        pattern = dictionary[key]\n",
    "        for patt in pattern:\n",
    "            list_of_file.append(list(sorted(glob(os.path.join(directory, patt), recursive=True),reverse=False)))\n",
    "    return np.concatenate(list_of_file)\n",
    "\n",
    "def copy_file(read_path,save_path,directory_save,count):\n",
    "    count = count + 1 \n",
    "    if not os.path.exists(directory_save):\n",
    "        os.makedirs(directory_save)\n",
    "        count = 0\n",
    "    copy2(read_path, save_path)\n",
    "    return count\n",
    "\n",
    "def name_dir_ext_parent(ext,extensions):\n",
    "    for key in extensions.keys():\n",
    "        if ext in extensions[key]: \n",
    "            return key + '/'\n",
    "        \n",
    "def make_ext_inception(extensions,number_f_within=15):\n",
    "    new_extensions = {}\n",
    "    for key in extensions.keys():\n",
    "        extList = []\n",
    "        for ext_ele in extensions[key]:\n",
    "                for i in range(number_f_within):\n",
    "                    ext_ele = '/*'+ ext_ele\n",
    "                    extList.append('*'+ext_ele)\n",
    "\n",
    "        new_extensions[key] = extList\n",
    "\n",
    "        "
   ]
  },
  {
   "cell_type": "code",
   "execution_count": 11,
   "metadata": {},
   "outputs": [],
   "source": [
    "extensions = {'image':['.jpg','.jpeg'],'video':['.m4v','.mov']}\n",
    "ext_incp = make_ext_inception(extensions,number_f_within_f)\n",
    "path_to_files = find_files(path,ext_incp)\n"
   ]
  },
  {
   "cell_type": "code",
   "execution_count": 12,
   "metadata": {},
   "outputs": [],
   "source": [
    "count = 0\n",
    "path = #where ever the mess is \n",
    "path_save = #where it will spark joy \n",
    "\n",
    "for file_path in path_to_files:\n",
    "    ext = '.' + file_path.split('.')[-1]\n",
    "    key = name_dir_ext_parent(ext,extensions)\n",
    "    directory_save = path_save + key\n",
    "    save_path = directory_save + str(count) + ext\n",
    "    count = copy_file(file_path,save_path,directory_save,count)\n"
   ]
  },
  {
   "cell_type": "code",
   "execution_count": 13,
   "metadata": {},
   "outputs": [],
   "source": []
  },
  {
   "cell_type": "code",
   "execution_count": null,
   "metadata": {},
   "outputs": [],
   "source": []
  }
 ],
 "metadata": {
  "kernelspec": {
   "display_name": "Python 3",
   "language": "python",
   "name": "python3"
  },
  "language_info": {
   "codemirror_mode": {
    "name": "ipython",
    "version": 3
   },
   "file_extension": ".py",
   "mimetype": "text/x-python",
   "name": "python",
   "nbconvert_exporter": "python",
   "pygments_lexer": "ipython3",
   "version": "3.7.3"
  }
 },
 "nbformat": 4,
 "nbformat_minor": 2
}
